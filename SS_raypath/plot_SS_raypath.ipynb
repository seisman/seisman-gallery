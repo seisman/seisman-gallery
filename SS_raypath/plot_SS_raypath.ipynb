{
 "cells": [
  {
   "cell_type": "code",
   "execution_count": null,
   "id": "556cdb79-c514-4773-97b5-bbc176b89e25",
   "metadata": {},
   "outputs": [],
   "source": [
    "import pygmt"
   ]
  },
  {
   "cell_type": "code",
   "execution_count": null,
   "id": "b3815ec1-f847-47d6-a9e5-2dbb704623c2",
   "metadata": {},
   "outputs": [],
   "source": [
    "theta_min = -25\n",
    "theta_max = theta_min + 180\n",
    "radius_min, radius_max = 0, 6371"
   ]
  },
  {
   "cell_type": "code",
   "execution_count": null,
   "id": "d0eb9bd5-a1a0-4baf-b4f7-d5071cf40809",
   "metadata": {},
   "outputs": [],
   "source": [
    "fig = pygmt.Figure()"
   ]
  },
  {
   "cell_type": "code",
   "execution_count": null,
   "id": "f091a97c",
   "metadata": {},
   "outputs": [],
   "source": [
    "# Plot the half-circle basemap\n",
    "fig.basemap(\n",
    "    projection=\"P8c+a+t65+fp\",\n",
    "    region=[theta_min, theta_max, radius_min, radius_max],\n",
    "    frame=0,\n",
    ")"
   ]
  },
  {
   "cell_type": "code",
   "execution_count": null,
   "id": "e0e16ae3",
   "metadata": {},
   "outputs": [],
   "source": [
    "# Plot discontinuities\n",
    "for depth in [2891, 5150]:\n",
    "    fig.plot(\n",
    "        x=[theta_min, theta_max], y=[depth, depth], straight_line=\"r\", pen=\"0.5p,gray\"\n",
    "    )\n",
    "fig.plot(\n",
    "    x=[theta_min, theta_min, theta_max, theta_max],\n",
    "    y=[410, 660, 660, 410],\n",
    "    straight_line=\"r\",\n",
    "    pen=\"0.25p,gray\",\n",
    "    fill=\"lightblue\",\n",
    ")"
   ]
  },
  {
   "cell_type": "code",
   "execution_count": null,
   "id": "8cb09d9d",
   "metadata": {},
   "outputs": [],
   "source": [
    "# Plot the raypaths of SS and SS precursors\n",
    "# The \"SS_raypath.gmt\" file is created using the following TauP command:\n",
    "# taup_path -mod iasp91 -ph SS,S^410S -h 30 -deg 130 -o SS_raypath\n",
    "fig.plot(data=\"SS_raypath.gmt\", pen=\"0.5p\", incols=\"0,1+s-1+o6371\")\n",
    "fig.plot(x=0, y=0, style=\"a0.3c\", fill=\"red\", no_clip=True)\n",
    "fig.plot(x=130, y=0, style=\"i0.3c\", fill=\"black\", no_clip=True)"
   ]
  },
  {
   "cell_type": "code",
   "execution_count": null,
   "id": "224f0a17-9f56-484a-85d6-1b5559eba9fd",
   "metadata": {},
   "outputs": [],
   "source": [
    "# Add more annotations\n",
    "fig.text(\n",
    "    x=[theta_max, theta_max, theta_max],\n",
    "    y=[6371, 4000, 1800],\n",
    "    text=[\"Inner Core\", \"Outer Core\", \"Mantle\"],\n",
    "    justify=[\"BC\", \"BC\", \"BC\"],\n",
    "    font=\"8p,Times-Roman\",\n",
    "    offset=\"0/0.1\",\n",
    ")\n",
    "fig.text(\n",
    "    x=[70, 65],\n",
    "    y=[220, 1100],\n",
    "    text=[\"SS\", \"S@%6%d@%%S\"],\n",
    "    font=\"8p,Times-Roman\",\n",
    "    justify=\"MC\",\n",
    ")\n",
    "fig.text(\n",
    "    x=[65, 0, 130],\n",
    "    y=[0, 0, 0],\n",
    "    text=[\"Bounce Point\", \"Source\", \"Receiver\"],\n",
    "    justify=[\"BC\", \"BR\", \"BL\"],\n",
    "    font=\"8p,Times-Roman\",\n",
    "    offset=\"0/0.12\",\n",
    "    no_clip=True,\n",
    ")\n",
    "fig.show()"
   ]
  }
 ],
 "metadata": {
  "kernelspec": {
   "display_name": "Python 3 (ipykernel)",
   "language": "python",
   "name": "python3"
  },
  "language_info": {
   "codemirror_mode": {
    "name": "ipython",
    "version": 3
   },
   "file_extension": ".py",
   "mimetype": "text/x-python",
   "name": "python",
   "nbconvert_exporter": "python",
   "pygments_lexer": "ipython3",
   "version": "3.12.3"
  }
 },
 "nbformat": 4,
 "nbformat_minor": 5
}
